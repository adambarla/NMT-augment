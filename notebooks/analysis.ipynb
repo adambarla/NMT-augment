{
 "cells": [
  {
   "cell_type": "code",
   "execution_count": 19,
   "id": "38924361-b8de-4ccd-a8ba-8c19191ee551",
   "metadata": {
    "ExecuteTime": {
     "end_time": "2024-04-24T11:20:36.258847Z",
     "start_time": "2024-04-24T11:20:35.517189Z"
    }
   },
   "outputs": [],
   "source": [
    "import wandb\n",
    "import pandas as pd"
   ]
  },
  {
   "cell_type": "code",
   "execution_count": 20,
   "id": "5adeb7a5-f894-4e81-bc46-9b1d2cc1378d",
   "metadata": {
    "ExecuteTime": {
     "end_time": "2024-04-24T11:20:36.265560Z",
     "start_time": "2024-04-24T11:20:36.260205Z"
    }
   },
   "outputs": [
    {
     "data": {
      "text/plain": "True"
     },
     "execution_count": 20,
     "metadata": {},
     "output_type": "execute_result"
    }
   ],
   "source": [
    "wandb.login()"
   ]
  },
  {
   "cell_type": "code",
   "execution_count": 21,
   "id": "b64a5634-d3b6-44e5-a500-6b9a7a0cfa7a",
   "metadata": {
    "ExecuteTime": {
     "end_time": "2024-04-24T11:20:39.497470Z",
     "start_time": "2024-04-24T11:20:36.266319Z"
    }
   },
   "outputs": [
    {
     "name": "stdout",
     "output_type": "stream",
     "text": [
      "233\n"
     ]
    },
    {
     "data": {
      "text/plain": "8"
     },
     "execution_count": 21,
     "metadata": {},
     "output_type": "execute_result"
    }
   ],
   "source": [
    "api = wandb.Api()\n",
    "runs = api.runs(\"Data Augmentation for Neural Machine Translation\")\n",
    "print(len(runs))\n",
    "runs = [run for run in runs if \"final runs\" in run.tags and run.state != \"running\"]\n",
    "len(runs)"
   ]
  },
  {
   "cell_type": "code",
   "outputs": [
    {
     "data": {
      "text/plain": "{'500k_aug_synonym': {'valid_ter': 96.09495045832672,\n  'test_meteor': 0.31286649594927124,\n  'valid_meteor': 0.31801161092995295,\n  'valid_rouge1': 0.3481172320397015,\n  'valid_sacrebleu': 7.050040582903733,\n  'epoch': 51,\n  'test_loss': 1.3497490485509236,\n  'train_loss': 1.0407569962672836,\n  'valid_chrf': 34.281568966487406,\n  'test_rouge2': 0.10740292781848364,\n  'test_rougeL': 0.2930003279899033,\n  'valid_rougeL': 0.2903492652060966,\n  'test_rougeLsum': 0.2926337841468039,\n  'lr': 9.899233410238968e-05,\n  'test_chrf': 35.00756444317686,\n  'valid_loss': 1.2157808144887288,\n  'valid_rouge2': 0.10830175852842622,\n  'test_sacrebleu': 6.776200599132155,\n  'test_ter': 94.1452619932032,\n  'test_rouge1': 0.3533206309984827,\n  'valid_rougeLsum': 0.2905612390225035},\n '100k_aug_antonym': {'test_rouge2': 0.03465124807147189,\n  'test_rougeL': 0.17403276971758586,\n  'valid_rouge2': 0.03423325893125567,\n  'train_loss': 1.2929527668087073,\n  'test_meteor': 0.18010817839210555,\n  'valid_chrf': 24.97143352293645,\n  'test_sacrebleu': 1.7257481174359734,\n  'lr': 0.0004382971106842813,\n  'test_loss': 2.318890412648519,\n  'valid_ter': 107.18839965382644,\n  'valid_sacrebleu': 1.7596753636256108,\n  'test_ter': 106.9833241128586,\n  'valid_rougeL': 0.17403289882427225,\n  'test_rougeLsum': 0.1738944120555529,\n  'test_chrf': 25.28980535890633,\n  'valid_loss': 1.9796908100446065,\n  'test_rouge1': 0.2312569401378601,\n  'valid_meteor': 0.1854220097088888,\n  'epoch': 13,\n  'valid_rouge1': 0.2265712049748711,\n  'valid_rougeLsum': 0.174013832236798},\n '500k': {'valid_rouge2': 0.09452155829470074,\n  'test_chrf': 33.560819241165,\n  'test_loss': 1.466842571894328,\n  'train_loss': 0.967287855114151,\n  'test_rouge1': 0.34086931541153276,\n  'valid_meteor': 0.2971720689197171,\n  'test_rougeL': 0.26589694636261985,\n  'test_rougeLsum': 0.26581399536664596,\n  'valid_sacrebleu': 5.45440296401175,\n  'valid_ter': 100.7506314134831,\n  'valid_loss': 1.30872443318367,\n  'test_rouge2': 0.09338830892614504,\n  'lr': 0.00016436103761338438,\n  'valid_chrf': 32.820357175102224,\n  'test_meteor': 0.2931133448382645,\n  'valid_rougeL': 0.2655931788029077,\n  'valid_rougeLsum': 0.26566739017624397,\n  'test_sacrebleu': 5.262133277369752,\n  'epoch': 37,\n  'test_ter': 99.76448273136803,\n  'valid_rouge1': 0.33234103471395327},\n '100k': {'test_meteor': 0.17748205157962194,\n  'valid_meteor': 0.18859634152895888,\n  'test_rougeL': 0.16957225990538907,\n  'valid_rouge2': 0.03473374592572541,\n  'lr': 0.0004990904876706285,\n  'test_loss': 2.2645239432652793,\n  'valid_loss': 1.937668402989705,\n  'test_sacrebleu': 1.6430763896104448,\n  'valid_rougeLsum': 0.17524473931993373,\n  'valid_sacrebleu': 1.7722676504222563,\n  'test_chrf': 24.937480445174067,\n  'test_rouge1': 0.223320942081728,\n  'test_rougeLsum': 0.16954357136609158,\n  'train_loss': 1.405425065634202,\n  'valid_chrf': 24.81708967252113,\n  'test_rouge2': 0.03247147094053375,\n  'epoch': 20,\n  'test_ter': 108.10400695487236,\n  'valid_ter': 109.15593705293276,\n  'valid_rouge1': 0.22650126417103955,\n  'valid_rougeL': 0.1752312508784744},\n '100k_aug_synonym': {'test_loss': 2.256665309270223,\n  'train_loss': 1.484247538744641,\n  'test_meteor': 0.18900644487022647,\n  'test_rouge1': 0.23692114313206356,\n  'test_rougeL': 0.17723083699837114,\n  'valid_meteor': 0.20006924610220547,\n  'test_ter': 108.20358808187784,\n  'valid_chrf': 25.52312103956161,\n  'valid_rouge1': 0.23820088604338904,\n  'valid_rouge2': 0.03854812641058977,\n  'valid_sacrebleu': 1.951235102407623,\n  'lr': 0.00042235514756318624,\n  'test_chrf': 25.44986287226278,\n  'test_rouge2': 0.03731784353212711,\n  'valid_rougeL': 0.1810277938490365,\n  'epoch': 14,\n  'valid_ter': 108.94752644871863,\n  'valid_loss': 1.927971601486206,\n  'test_rougeLsum': 0.1772063440335092,\n  'test_sacrebleu': 1.8297399207765668,\n  'valid_rougeLsum': 0.18107913532545605},\n '100k_es_bleu_p_10': {'test_chrf': 27.432487068246196,\n  'valid_ter': 104.78284674755824,\n  'train_loss': 0.36382618044712106,\n  'test_meteor': 0.21770916065559076,\n  'test_rougeL': 0.20551673417635535,\n  'valid_rouge1': 0.2803314427156865,\n  'valid_rouge2': 0.057901295395860974,\n  'test_ter': 104.34047261519008,\n  'epoch': 77,\n  'test_loss': 3.525928735733032,\n  'test_rouge2': 0.05435835402352176,\n  'valid_rougeL': 0.2130364272620313,\n  'test_rougeLsum': 0.205493355932224,\n  'test_sacrebleu': 2.784003088529367,\n  'valid_sacrebleu': 3.059624698810292,\n  'valid_rougeLsum': 0.21304422996973743,\n  'lr': 0.00025437207308458027,\n  'valid_loss': 3.0263959964116416,\n  'test_rouge1': 0.2772770396498826,\n  'valid_meteor': 0.2315243632857614,\n  'valid_chrf': 27.251920229215216},\n '100k_es_bleu': {'test_loss': 2.6186861991882324,\n  'test_rouge1': 0.25594492005659,\n  'test_rougeL': 0.18818793704555048,\n  'valid_rouge2': 0.04759778010077229,\n  'valid_rougeLsum': 0.19578822028159223,\n  'lr': 0.0003720106291085949,\n  'test_ter': 108.30158855607364,\n  'test_meteor': 0.203370488447042,\n  'train_loss': 0.8433072992733547,\n  'valid_chrf': 26.50679598199449,\n  'test_rouge2': 0.04424451204115848,\n  'valid_meteor': 0.215844163066668,\n  'valid_rouge1': 0.2577695051643819,\n  'valid_rougeL': 0.1958956998251697,\n  'test_sacrebleu': 2.133207720039941,\n  'valid_sacrebleu': 2.472417911508999,\n  'epoch': 36,\n  'test_chrf': 26.612486970857823,\n  'valid_ter': 108.50774474999558,\n  'valid_loss': 2.2458856105804443,\n  'test_rougeLsum': 0.18804033024080308},\n 'full': {'valid_ter': 82.50410639537964,\n  'valid_chrf': 42.04779250356636,\n  'valid_loss': 0.6875152140855789,\n  'valid_rouge1': 0.42735574629245104,\n  'valid_rouge2': 0.18815169333827603,\n  'valid_rougeL': 0.3834111725018813,\n  'epoch': 7,\n  'train_loss': 0.8273735051804644,\n  'valid_meteor': 0.4138930095489736,\n  'valid_rougeLsum': 0.3836273189341539,\n  'valid_sacrebleu': 14.47745754204057,\n  'lr': 4.38097863908717e-05}}"
     },
     "execution_count": 22,
     "metadata": {},
     "output_type": "execute_result"
    }
   ],
   "source": [
    "run_d = {}\n",
    "for r in runs:\n",
    "    run_d[r.name] = {k: v for k, v in r.summary.items() if \"_\" != k[0]}\n",
    "run_d"
   ],
   "metadata": {
    "collapsed": false,
    "ExecuteTime": {
     "end_time": "2024-04-24T11:20:39.503742Z",
     "start_time": "2024-04-24T11:20:39.498893Z"
    }
   },
   "id": "17fbba19dc639ca0",
   "execution_count": 22
  },
  {
   "cell_type": "code",
   "outputs": [
    {
     "data": {
      "text/plain": "                    valid_ter  test_meteor  valid_meteor  valid_rouge1  \\\n500k_aug_synonym    96.094950     0.312866      0.318012      0.348117   \n100k_aug_antonym   107.188400     0.180108      0.185422      0.226571   \n500k               100.750631     0.293113      0.297172      0.332341   \n100k               109.155937     0.177482      0.188596      0.226501   \n100k_aug_synonym   108.947526     0.189006      0.200069      0.238201   \n100k_es_bleu_p_10  104.782847     0.217709      0.231524      0.280331   \n100k_es_bleu       108.507745     0.203370      0.215844      0.257770   \nfull                82.504106          NaN      0.413893      0.427356   \n\n                   valid_sacrebleu  epoch  test_loss  train_loss  valid_chrf  \\\n500k_aug_synonym          7.050041     51   1.349749    1.040757   34.281569   \n100k_aug_antonym          1.759675     13   2.318890    1.292953   24.971434   \n500k                      5.454403     37   1.466843    0.967288   32.820357   \n100k                      1.772268     20   2.264524    1.405425   24.817090   \n100k_aug_synonym          1.951235     14   2.256665    1.484248   25.523121   \n100k_es_bleu_p_10         3.059625     77   3.525929    0.363826   27.251920   \n100k_es_bleu              2.472418     36   2.618686    0.843307   26.506796   \nfull                     14.477458      7        NaN    0.827374   42.047793   \n\n                   test_rouge2  ...  valid_rougeL  test_rougeLsum        lr  \\\n500k_aug_synonym      0.107403  ...      0.290349        0.292634  0.000099   \n100k_aug_antonym      0.034651  ...      0.174033        0.173894  0.000438   \n500k                  0.093388  ...      0.265593        0.265814  0.000164   \n100k                  0.032471  ...      0.175231        0.169544  0.000499   \n100k_aug_synonym      0.037318  ...      0.181028        0.177206  0.000422   \n100k_es_bleu_p_10     0.054358  ...      0.213036        0.205493  0.000254   \n100k_es_bleu          0.044245  ...      0.195896        0.188040  0.000372   \nfull                       NaN  ...      0.383411             NaN  0.000044   \n\n                   test_chrf  valid_loss  valid_rouge2  test_sacrebleu  \\\n500k_aug_synonym   35.007564    1.215781      0.108302        6.776201   \n100k_aug_antonym   25.289805    1.979691      0.034233        1.725748   \n500k               33.560819    1.308724      0.094522        5.262133   \n100k               24.937480    1.937668      0.034734        1.643076   \n100k_aug_synonym   25.449863    1.927972      0.038548        1.829740   \n100k_es_bleu_p_10  27.432487    3.026396      0.057901        2.784003   \n100k_es_bleu       26.612487    2.245886      0.047598        2.133208   \nfull                     NaN    0.687515      0.188152             NaN   \n\n                     test_ter  test_rouge1  valid_rougeLsum  \n500k_aug_synonym    94.145262     0.353321         0.290561  \n100k_aug_antonym   106.983324     0.231257         0.174014  \n500k                99.764483     0.340869         0.265667  \n100k               108.104007     0.223321         0.175245  \n100k_aug_synonym   108.203588     0.236921         0.181079  \n100k_es_bleu_p_10  104.340473     0.277277         0.213044  \n100k_es_bleu       108.301589     0.255945         0.195788  \nfull                      NaN          NaN         0.383627  \n\n[8 rows x 21 columns]",
      "text/html": "<div>\n<style scoped>\n    .dataframe tbody tr th:only-of-type {\n        vertical-align: middle;\n    }\n\n    .dataframe tbody tr th {\n        vertical-align: top;\n    }\n\n    .dataframe thead th {\n        text-align: right;\n    }\n</style>\n<table border=\"1\" class=\"dataframe\">\n  <thead>\n    <tr style=\"text-align: right;\">\n      <th></th>\n      <th>valid_ter</th>\n      <th>test_meteor</th>\n      <th>valid_meteor</th>\n      <th>valid_rouge1</th>\n      <th>valid_sacrebleu</th>\n      <th>epoch</th>\n      <th>test_loss</th>\n      <th>train_loss</th>\n      <th>valid_chrf</th>\n      <th>test_rouge2</th>\n      <th>...</th>\n      <th>valid_rougeL</th>\n      <th>test_rougeLsum</th>\n      <th>lr</th>\n      <th>test_chrf</th>\n      <th>valid_loss</th>\n      <th>valid_rouge2</th>\n      <th>test_sacrebleu</th>\n      <th>test_ter</th>\n      <th>test_rouge1</th>\n      <th>valid_rougeLsum</th>\n    </tr>\n  </thead>\n  <tbody>\n    <tr>\n      <th>500k_aug_synonym</th>\n      <td>96.094950</td>\n      <td>0.312866</td>\n      <td>0.318012</td>\n      <td>0.348117</td>\n      <td>7.050041</td>\n      <td>51</td>\n      <td>1.349749</td>\n      <td>1.040757</td>\n      <td>34.281569</td>\n      <td>0.107403</td>\n      <td>...</td>\n      <td>0.290349</td>\n      <td>0.292634</td>\n      <td>0.000099</td>\n      <td>35.007564</td>\n      <td>1.215781</td>\n      <td>0.108302</td>\n      <td>6.776201</td>\n      <td>94.145262</td>\n      <td>0.353321</td>\n      <td>0.290561</td>\n    </tr>\n    <tr>\n      <th>100k_aug_antonym</th>\n      <td>107.188400</td>\n      <td>0.180108</td>\n      <td>0.185422</td>\n      <td>0.226571</td>\n      <td>1.759675</td>\n      <td>13</td>\n      <td>2.318890</td>\n      <td>1.292953</td>\n      <td>24.971434</td>\n      <td>0.034651</td>\n      <td>...</td>\n      <td>0.174033</td>\n      <td>0.173894</td>\n      <td>0.000438</td>\n      <td>25.289805</td>\n      <td>1.979691</td>\n      <td>0.034233</td>\n      <td>1.725748</td>\n      <td>106.983324</td>\n      <td>0.231257</td>\n      <td>0.174014</td>\n    </tr>\n    <tr>\n      <th>500k</th>\n      <td>100.750631</td>\n      <td>0.293113</td>\n      <td>0.297172</td>\n      <td>0.332341</td>\n      <td>5.454403</td>\n      <td>37</td>\n      <td>1.466843</td>\n      <td>0.967288</td>\n      <td>32.820357</td>\n      <td>0.093388</td>\n      <td>...</td>\n      <td>0.265593</td>\n      <td>0.265814</td>\n      <td>0.000164</td>\n      <td>33.560819</td>\n      <td>1.308724</td>\n      <td>0.094522</td>\n      <td>5.262133</td>\n      <td>99.764483</td>\n      <td>0.340869</td>\n      <td>0.265667</td>\n    </tr>\n    <tr>\n      <th>100k</th>\n      <td>109.155937</td>\n      <td>0.177482</td>\n      <td>0.188596</td>\n      <td>0.226501</td>\n      <td>1.772268</td>\n      <td>20</td>\n      <td>2.264524</td>\n      <td>1.405425</td>\n      <td>24.817090</td>\n      <td>0.032471</td>\n      <td>...</td>\n      <td>0.175231</td>\n      <td>0.169544</td>\n      <td>0.000499</td>\n      <td>24.937480</td>\n      <td>1.937668</td>\n      <td>0.034734</td>\n      <td>1.643076</td>\n      <td>108.104007</td>\n      <td>0.223321</td>\n      <td>0.175245</td>\n    </tr>\n    <tr>\n      <th>100k_aug_synonym</th>\n      <td>108.947526</td>\n      <td>0.189006</td>\n      <td>0.200069</td>\n      <td>0.238201</td>\n      <td>1.951235</td>\n      <td>14</td>\n      <td>2.256665</td>\n      <td>1.484248</td>\n      <td>25.523121</td>\n      <td>0.037318</td>\n      <td>...</td>\n      <td>0.181028</td>\n      <td>0.177206</td>\n      <td>0.000422</td>\n      <td>25.449863</td>\n      <td>1.927972</td>\n      <td>0.038548</td>\n      <td>1.829740</td>\n      <td>108.203588</td>\n      <td>0.236921</td>\n      <td>0.181079</td>\n    </tr>\n    <tr>\n      <th>100k_es_bleu_p_10</th>\n      <td>104.782847</td>\n      <td>0.217709</td>\n      <td>0.231524</td>\n      <td>0.280331</td>\n      <td>3.059625</td>\n      <td>77</td>\n      <td>3.525929</td>\n      <td>0.363826</td>\n      <td>27.251920</td>\n      <td>0.054358</td>\n      <td>...</td>\n      <td>0.213036</td>\n      <td>0.205493</td>\n      <td>0.000254</td>\n      <td>27.432487</td>\n      <td>3.026396</td>\n      <td>0.057901</td>\n      <td>2.784003</td>\n      <td>104.340473</td>\n      <td>0.277277</td>\n      <td>0.213044</td>\n    </tr>\n    <tr>\n      <th>100k_es_bleu</th>\n      <td>108.507745</td>\n      <td>0.203370</td>\n      <td>0.215844</td>\n      <td>0.257770</td>\n      <td>2.472418</td>\n      <td>36</td>\n      <td>2.618686</td>\n      <td>0.843307</td>\n      <td>26.506796</td>\n      <td>0.044245</td>\n      <td>...</td>\n      <td>0.195896</td>\n      <td>0.188040</td>\n      <td>0.000372</td>\n      <td>26.612487</td>\n      <td>2.245886</td>\n      <td>0.047598</td>\n      <td>2.133208</td>\n      <td>108.301589</td>\n      <td>0.255945</td>\n      <td>0.195788</td>\n    </tr>\n    <tr>\n      <th>full</th>\n      <td>82.504106</td>\n      <td>NaN</td>\n      <td>0.413893</td>\n      <td>0.427356</td>\n      <td>14.477458</td>\n      <td>7</td>\n      <td>NaN</td>\n      <td>0.827374</td>\n      <td>42.047793</td>\n      <td>NaN</td>\n      <td>...</td>\n      <td>0.383411</td>\n      <td>NaN</td>\n      <td>0.000044</td>\n      <td>NaN</td>\n      <td>0.687515</td>\n      <td>0.188152</td>\n      <td>NaN</td>\n      <td>NaN</td>\n      <td>NaN</td>\n      <td>0.383627</td>\n    </tr>\n  </tbody>\n</table>\n<p>8 rows × 21 columns</p>\n</div>"
     },
     "execution_count": 23,
     "metadata": {},
     "output_type": "execute_result"
    }
   ],
   "source": [
    "df = pd.DataFrame.from_dict(run_d, orient=\"index\")\n",
    "df"
   ],
   "metadata": {
    "collapsed": false,
    "ExecuteTime": {
     "end_time": "2024-04-24T11:20:39.521231Z",
     "start_time": "2024-04-24T11:20:39.504468Z"
    }
   },
   "id": "cc78af2b8c64ab2f",
   "execution_count": 23
  },
  {
   "cell_type": "code",
   "outputs": [],
   "source": [],
   "metadata": {
    "collapsed": false
   },
   "id": "40879daea8c8125"
  }
 ],
 "metadata": {
  "kernelspec": {
   "display_name": "Python 3 (ipykernel)",
   "language": "python",
   "name": "python3"
  },
  "language_info": {
   "codemirror_mode": {
    "name": "ipython",
    "version": 3
   },
   "file_extension": ".py",
   "mimetype": "text/x-python",
   "name": "python",
   "nbconvert_exporter": "python",
   "pygments_lexer": "ipython3",
   "version": "3.10.13"
  }
 },
 "nbformat": 4,
 "nbformat_minor": 5
}
