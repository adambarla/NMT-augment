{
 "cells": [
  {
   "cell_type": "code",
   "execution_count": null,
   "id": "b1c6e06b-3652-4613-8ec4-11afb189d0f0",
   "metadata": {},
   "outputs": [],
   "source": [
    "%load_ext autoreload\n",
    "%autoreload 2"
   ]
  },
  {
   "cell_type": "markdown",
   "id": "aa0a29cc-ebd9-430c-a162-ca6f973b7987",
   "metadata": {},
   "source": [
    "# Data"
   ]
  },
  {
   "cell_type": "code",
   "execution_count": null,
   "id": "618166c1-f812-406f-afe8-af6fac72b1d7",
   "metadata": {},
   "outputs": [],
   "source": [
    "from datasets import load_dataset\n",
    "\n",
    "dataset = load_dataset(\"wmt14\", 'cs-en',cache_dir='../src/data',trust_remote_code=True)"
   ]
  },
  {
   "cell_type": "code",
   "execution_count": null,
   "id": "ff6e0835-cd6a-4768-b43a-4042ca8612cf",
   "metadata": {},
   "outputs": [],
   "source": [
    "dataset"
   ]
  },
  {
   "cell_type": "markdown",
   "id": "24a24fad-25df-4438-96b5-2c10dae97378",
   "metadata": {},
   "source": [
    "# Model"
   ]
  },
  {
   "cell_type": "code",
   "execution_count": null,
   "id": "46fe64a3-1007-46ad-8e88-f698a39727cf",
   "metadata": {},
   "outputs": [],
   "source": [
    "import torch\n",
    "from transformers import XLMRobertaTokenizer, XLMRobertaModel"
   ]
  },
  {
   "cell_type": "code",
   "execution_count": null,
   "id": "d876740a-a022-44d8-98ff-84e214c599b5",
   "metadata": {},
   "outputs": [],
   "source": [
    "tokenizer = XLMRobertaTokenizer.from_pretrained(\"FacebookAI/xlm-roberta-base\")\n",
    "model = XLMRobertaModel.from_pretrained(\"FacebookAI/xlm-roberta-base\")\n",
    "input_ids = torch.tensor(tokenizer.encode(\"<mask>\")).unsqueeze(0)  # Batch size 1\n",
    "outputs = model(input_ids)"
   ]
  },
  {
   "cell_type": "code",
   "execution_count": null,
   "id": "76da637a-dc5a-4ad2-accd-0a26f4fc6dc4",
   "metadata": {},
   "outputs": [],
   "source": [
    "import sys\n",
    "sys.path.append('../src')"
   ]
  },
  {
   "cell_type": "code",
   "execution_count": null,
   "id": "81c3f52c-221e-4fe7-b9b6-850a1b07a81a",
   "metadata": {},
   "outputs": [],
   "source": [
    "from utils import *\n",
    "from hydra import compose, initialize\n",
    "from omegaconf import OmegaConf\n",
    "import hydra"
   ]
  },
  {
   "cell_type": "code",
   "execution_count": null,
   "id": "ee2aa73c-e0d1-40cf-b99e-383b12c34661",
   "metadata": {},
   "outputs": [],
   "source": [
    "initialize(version_base=None, config_path=\"../src/conf\", job_name=\"test_app\")"
   ]
  },
  {
   "cell_type": "code",
   "execution_count": null,
   "id": "23f1b4dc-a0cc-431e-bd6c-8f7c3a4854b3",
   "metadata": {},
   "outputs": [],
   "source": [
    "cfg = compose(config_name=\"main\",overrides=['data.dir=../src/data'])\n",
    "print(OmegaConf.to_yaml(cfg))"
   ]
  },
  {
   "cell_type": "code",
   "execution_count": null,
   "id": "361c1cb1-7346-4940-9a20-6036d1df8c1f",
   "metadata": {},
   "outputs": [],
   "source": [
    "train_loader, val_loader, test_loader = get_dataloaders(cfg,tokenizer)"
   ]
  },
  {
   "cell_type": "code",
   "execution_count": null,
   "id": "28d6f1c2-a2c7-4d07-bf4c-5caaa2254623",
   "metadata": {},
   "outputs": [],
   "source": [
    "for i in train_loader:\n",
    "    print(i)\n",
    "    break"
   ]
  },
  {
   "cell_type": "code",
   "execution_count": null,
   "id": "213e1dff-3c2a-4758-a910-eaad6778c104",
   "metadata": {},
   "outputs": [],
   "source": [
    "epoch_loss = 0\n",
    "optimizer = hydra.utils.instantiate(cfg.optimizer,params=model.parameters())\n",
    "criterion = \n",
    "model.train()\n",
    "for batch in train_loader:\n",
    "    optimizer.zero_grad()\n",
    "    input, output = batch\n",
    "    predictions = model(input)\n",
    "\n",
    "    loss = criterion(predictions, batch.label)\n",
    "    # if regularizer is not None:\n",
    "    #     loss += regularizer(model)\n",
    "    # loss.backward()\n",
    "    # if grad_clip_threshold is not None:\n",
    "    #     torch.nn.utils.clip_grad_norm_(model.parameters(), grad_clip_threshold)\n",
    "    optimizer.step()\n",
    "    epoch_loss += loss.item()"
   ]
  },
  {
   "cell_type": "code",
   "execution_count": null,
   "id": "94c0b1e8-9778-42be-bb67-3ae52bf056ea",
   "metadata": {},
   "outputs": [],
   "source": []
  }
 ],
 "metadata": {
  "kernelspec": {
   "display_name": "aug",
   "language": "python",
   "name": "aug"
  },
  "language_info": {
   "codemirror_mode": {
    "name": "ipython",
    "version": 3
   },
   "file_extension": ".py",
   "mimetype": "text/x-python",
   "name": "python",
   "nbconvert_exporter": "python",
   "pygments_lexer": "ipython3",
   "version": "3.9.18"
  }
 },
 "nbformat": 4,
 "nbformat_minor": 5
}
